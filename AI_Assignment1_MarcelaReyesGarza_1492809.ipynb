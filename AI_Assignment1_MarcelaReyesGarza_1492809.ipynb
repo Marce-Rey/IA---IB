{
  "nbformat": 4,
  "nbformat_minor": 0,
  "metadata": {
    "colab": {
      "provenance": [],
      "collapsed_sections": [],
      "authorship_tag": "ABX9TyN8sHcg8kKU0vKmwRkb7nUt",
      "include_colab_link": true
    },
    "kernelspec": {
      "name": "python3",
      "display_name": "Python 3"
    },
    "language_info": {
      "name": "python"
    }
  },
  "cells": [
    {
      "cell_type": "markdown",
      "metadata": {
        "id": "view-in-github",
        "colab_type": "text"
      },
      "source": [
        "<a href=\"https://colab.research.google.com/github/Marce-Rey/IA---IB/blob/Assignments/AI_Assignment1_MarcelaReyesGarza_1492809.ipynb\" target=\"_parent\"><img src=\"https://colab.research.google.com/assets/colab-badge.svg\" alt=\"Open In Colab\"/></a>"
      ]
    },
    {
      "cell_type": "markdown",
      "source": [
        "A2: Python Exercises\n",
        "\n",
        "Marcela Reyes Garza 1492809\n",
        "\n",
        "Thursday N4-N6"
      ],
      "metadata": {
        "id": "1D780HUyztvY"
      }
    },
    {
      "cell_type": "markdown",
      "source": [
        "Exercise #1"
      ],
      "metadata": {
        "id": "fAIsc5JW7mH6"
      }
    },
    {
      "cell_type": "code",
      "source": [
        "print (\"Hey, what's your name?\")\n",
        "name = str(input())\n",
        "a = \"Ana\"\n",
        "b = \"John\"\n",
        "c = \"Peter\"\n",
        "if name == a or name == b or name == c:\n",
        "  print (\"Meh, it's you, bye\",name)\n",
        "else:\n",
        "  print (\"What's up?\",name)"
      ],
      "metadata": {
        "colab": {
          "base_uri": "https://localhost:8080/"
        },
        "id": "ZzXrB3ld699O",
        "outputId": "3cd2f8ea-f625-43e7-98b9-a57e1ea20d80"
      },
      "execution_count": 10,
      "outputs": [
        {
          "output_type": "stream",
          "name": "stdout",
          "text": [
            "Hey, what's your name?\n",
            "Marcela\n",
            "What's up? Marcela\n"
          ]
        }
      ]
    },
    {
      "cell_type": "markdown",
      "source": [
        "Exercise #2"
      ],
      "metadata": {
        "id": "mnKjb6MH7p74"
      }
    },
    {
      "cell_type": "code",
      "source": [
        "musicList = [\"rock\",\"pop\",\"punk\",\"disco\"]\n",
        "print(\"The last element is: \",musicList[-1])\n",
        "musicList.reverse()\n",
        "print(\"\\nThe reverse list is: \",musicList)"
      ],
      "metadata": {
        "colab": {
          "base_uri": "https://localhost:8080/"
        },
        "id": "f1uQMZWu7tSE",
        "outputId": "c71f146f-e220-4734-81b2-ac2229be731c"
      },
      "execution_count": 11,
      "outputs": [
        {
          "output_type": "stream",
          "name": "stdout",
          "text": [
            "The last element is:  disco\n",
            "\n",
            "The reverse list is:  ['disco', 'punk', 'pop', 'rock']\n"
          ]
        }
      ]
    },
    {
      "cell_type": "markdown",
      "source": [
        "Exercise #3"
      ],
      "metadata": {
        "id": "U2azbvwue1_4"
      }
    },
    {
      "cell_type": "code",
      "source": [
        "def my_function2(UK):\n",
        "  for x in UK:\n",
        "    print(\"*\" + x.ljust(6,\" \")+ \"*\")\n",
        "UK = [\"London\",\"bridge\",\"is\",\"down\"]\n",
        "print (\"********\")\n",
        "my_function2(UK)\n",
        "print (\"********\")"
      ],
      "metadata": {
        "colab": {
          "base_uri": "https://localhost:8080/"
        },
        "id": "vZNWtIxqm7JW",
        "outputId": "bc7f1a85-d761-4e58-8da8-ecbc93080a0f"
      },
      "execution_count": 21,
      "outputs": [
        {
          "output_type": "stream",
          "name": "stdout",
          "text": [
            "********\n",
            "*London*\n",
            "*bridge*\n",
            "*is    *\n",
            "*down  *\n",
            "********\n"
          ]
        }
      ]
    }
  ]
}